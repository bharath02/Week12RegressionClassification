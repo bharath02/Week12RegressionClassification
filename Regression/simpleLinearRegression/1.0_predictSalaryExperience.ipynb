{
 "cells": [
  {
   "cell_type": "code",
   "execution_count": 72,
   "metadata": {},
   "outputs": [
    {
     "name": "stdout",
     "output_type": "stream",
     "text": [
      "   YearsExperience   Salary\n",
      "0              1.1  39343.0\n",
      "1              1.3  46205.0\n",
      "2              1.5  37731.0\n",
      "3              2.0  43525.0\n",
      "4              2.2  39891.0 \n",
      "\n",
      "    YearsExperience    Salary\n",
      "25              9.0  105582.0\n",
      "26              9.5  116969.0\n",
      "27              9.6  112635.0\n",
      "28             10.3  122391.0\n",
      "29             10.5  121872.0 \n",
      "\n",
      "YearsExperience    False\n",
      "Salary             False\n",
      "dtype: bool \n",
      "\n",
      "       YearsExperience         Salary\n",
      "count        30.000000      30.000000\n",
      "mean          5.313333   76003.000000\n",
      "std           2.837888   27414.429785\n",
      "min           1.100000   37731.000000\n",
      "25%           3.200000   56720.750000\n",
      "50%           4.700000   65237.000000\n",
      "75%           7.700000  100544.750000\n",
      "max          10.500000  122391.000000 \n",
      "\n",
      "(30, 2) \n",
      "\n",
      "                 YearsExperience    Salary\n",
      "YearsExperience         1.000000  0.978242\n",
      "Salary                  0.978242  1.000000\n"
     ]
    }
   ],
   "source": [
    "\"\"\"\n",
    "Statement        : Build a machine learning model to predict salary based on experience for a given dataset\n",
    "DataSet          : https://drive.google.com/open?id=1UAbkc53H9fpJiEKCUICw1kXsrCdc0uU1\n",
    "Solution         : Regression, Simple Linear Regression to Predict Salary input Experience \n",
    "\n",
    "\"\"\"\n",
    "\n",
    "import pandas as pd # Data Frames or Tables\n",
    "import numpy as np  # numerical operation\n",
    "\n",
    "Salarydata=pd.read_csv('Salary_Data.csv') # read data form it location \n",
    "\n",
    "# About Salary data  \n",
    "print(Salarydata.head(),'\\n')      # top five Salarydata\n",
    "print(Salarydata.tail(),'\\n')      # Last five values\n",
    "print(Salarydata.isnull().any(),'\\n')    # is any empty values\n",
    "print(Salarydata.describe(),'\\n')  # descride about numerical columes like count, mean, median, mode, max, min etc,.\n",
    "print(Salarydata.shape,'\\n')       # Shape of data \n",
    "# print(Salarydata.corr())   \n"
   ]
  },
  {
   "cell_type": "code",
   "execution_count": 74,
   "metadata": {},
   "outputs": [
    {
     "name": "stdout",
     "output_type": "stream",
     "text": [
      "yearsexperience :-\n",
      "4.0     2\n",
      "3.2     2\n",
      "9.6     1\n",
      "6.8     1\n",
      "2.0     1\n",
      "3.0     1\n",
      "4.5     1\n",
      "6.0     1\n",
      "9.0     1\n",
      "9.5     1\n",
      "10.5    1\n",
      "5.9     1\n",
      "8.7     1\n",
      "3.7     1\n",
      "4.1     1\n",
      "5.1     1\n",
      "2.2     1\n",
      "7.1     1\n",
      "8.2     1\n",
      "7.9     1\n",
      "2.9     1\n",
      "1.3     1\n",
      "10.3    1\n",
      "3.9     1\n",
      "1.1     1\n",
      "5.3     1\n",
      "4.9     1\n",
      "1.5     1\n",
      "Name: YearsExperience, dtype: int64 \n",
      "\n",
      "salary :-\n",
      "109431.0    1\n",
      "37731.0     1\n",
      "56957.0     1\n",
      "57081.0     1\n",
      "63218.0     1\n",
      "91738.0     1\n",
      "98273.0     1\n",
      "46205.0     1\n",
      "60150.0     1\n",
      "105582.0    1\n",
      "122391.0    1\n",
      "64445.0     1\n",
      "121872.0    1\n",
      "112635.0    1\n",
      "93940.0     1\n",
      "39891.0     1\n",
      "81363.0     1\n",
      "57189.0     1\n",
      "61111.0     1\n",
      "56642.0     1\n",
      "43525.0     1\n",
      "101302.0    1\n",
      "66029.0     1\n",
      "55794.0     1\n",
      "54445.0     1\n",
      "39343.0     1\n",
      "116969.0    1\n",
      "67938.0     1\n",
      "113812.0    1\n",
      "83088.0     1\n",
      "Name: Salary, dtype: int64 \n",
      "\n"
     ]
    }
   ],
   "source": [
    "col=['YearsExperience','Salary']\n",
    "for item in col:\n",
    "    print(item.lower(),\":-\")\n",
    "    print(Salarydata[item].value_counts(),\"\\n\")"
   ]
  },
  {
   "cell_type": "code",
   "execution_count": 16,
   "metadata": {},
   "outputs": [
    {
     "data": {
      "image/png": "[encoded data removed]",
      "text/plain": [
       "<matplotlib.figure.Figure at 0x85a6d10>"
      ]
     },
     "metadata": {},
     "output_type": "display_data"
    }
   ],
   "source": [
    "import matplotlib.pyplot as plt\n",
    "\n",
    "Salarydata.plot(x='YearsExperience', y='Salary', style='o')\n",
    "plt.title(\" Salary with years \")\n",
    "plt.xlabel(\" Years Experience \")\n",
    "plt.ylabel(\" Salary \")\n",
    "plt.show()\n"
   ]
  },
  {
   "cell_type": "code",
   "execution_count": 21,
   "metadata": {},
   "outputs": [],
   "source": [
    "from sklearn.model_selection import train_test_split # Split the data for training and spliting\n",
    "\n",
    "x=Salarydata['YearsExperience'].values.reshape(-1,1)\n",
    "y=Salarydata['Salary'].values.reshape(-1,1)\n",
    "\n",
    "x_train,x_test,y_train,y_test=train_test_split(x,y,test_size=0.2, random_state=0)\n",
    "\n"
   ]
  },
  {
   "cell_type": "code",
   "execution_count": 52,
   "metadata": {},
   "outputs": [
    {
     "name": "stdout",
     "output_type": "stream",
     "text": [
      "[26780.09915063]\n",
      "[[9312.57512673]]\n",
      "   actualValues      Predicted\n",
      "0       37731.0   40748.961841\n",
      "1      122391.0  122699.622956\n",
      "2       57081.0   64961.657170\n",
      "3       63218.0   63099.142145\n",
      "4      116969.0  115249.562855\n",
      "5      109431.0  107799.502753\n",
      "Eneter number of years to experience : 22\n",
      "\n",
      " Number of years Experience Prediction of Salary :  [[231656.75193867]]\n"
     ]
    }
   ],
   "source": [
    "from sklearn.linear_model import LinearRegression\n",
    "\n",
    "regressor=LinearRegression()\n",
    "regressor.fit(x_train,y_train) # Salary data is trained with Linear Regression\n",
    "\n",
    "print(regressor.intercept_) # value of intercept\n",
    "print(regressor.coef_)      # value of sllop\n",
    "\n",
    "# Compare actual value and prediction valuers\n",
    "\n",
    "ypred=regressor.predict(x_test)\n",
    "compareValues=pd.DataFrame({'actualValues':y_test.flatten(),'Predicted':ypred.flatten()})\n",
    "print(compareValues)\n",
    "\n",
    "\n",
    "# Manual Prediction\n",
    "newValue=regressor.predict([[float(input(\"Eneter number of years to experience : \"))]])  # if a ma\n",
    "print(\"\\n Number of years Experience Prediction of Salary : \",newValue)\n"
   ]
  },
  {
   "cell_type": "code",
   "execution_count": 71,
   "metadata": {},
   "outputs": [
    {
     "name": "stdout",
     "output_type": "stream",
     "text": [
      "Linear regressor performance:\n",
      "Mean absolute error = 2446.17\n",
      "Mean squared error = 12823412.3\n",
      "Median absolute error = 1675.47\n",
      "Explain variance score = 0.99\n",
      "R2 score = 0.99\n",
      "\n",
      "New mean absolute error = 0.99\n"
     ]
    }
   ],
   "source": [
    "import sklearn.metrics as sm\n",
    "from sklearn.metrics import confusion_matrix\n",
    "#result=confusion_matrix(x_train,y_train)\n",
    "print(\"Linear regressor performance:\")\n",
    "#print(\"Confusion Matrix : \",result)\n",
    "print(\"Mean absolute error =\", round(sm.mean_absolute_error(y_test, ypred), 2))\n",
    "print(\"Mean squared error =\", round(sm.mean_squared_error(y_test, ypred), 2)) \n",
    "print(\"Median absolute error =\", round(sm.median_absolute_error(y_test, ypred), 2)) \n",
    "print(\"Explain variance score =\", round(sm.explained_variance_score(y_test, ypred), 2))\n",
    "print(\"R2 score =\", round(sm.r2_score(y_test, ypred), 2))\n",
    "\n",
    "# Perform prediction on train data, reuse\n",
    "ypred1 = regressor.predict(x_test)\n",
    "print(\"\\nNew mean absolute error =\", round(sm.r2_score(y_test, ypred1), 2))"
   ]
  },
  {
   "cell_type": "code",
   "execution_count": 56,
   "metadata": {},
   "outputs": [
    {
     "data": {
      "image/png": "[encoded data removed]",
      "text/plain": [
       "<matplotlib.figure.Figure at 0x8c066f0>"
      ]
     },
     "metadata": {},
     "output_type": "display_data"
    }
   ],
   "source": [
    "compareValues.plot(kind='bar',figsize=(16,10))\n",
    "plt.title(\"Actual and Predition Salary  of Test data\")\n",
    "plt.xlabel('Testdata of number of experiences')\n",
    "plt.ylabel(' Salary ')\n",
    "plt.show()"
   ]
  }
 ],
 "metadata": {
  "kernelspec": {
   "display_name": "Python 3",
   "language": "python",
   "name": "python3"
  },
  "language_info": {
   "codemirror_mode": {
    "name": "ipython",
    "version": 3
   },
   "file_extension": ".py",
   "mimetype": "text/x-python",
   "name": "python",
   "nbconvert_exporter": "python",
   "pygments_lexer": "ipython3",
   "version": "3.6.8"
  }
 },
 "nbformat": 4,
 "nbformat_minor": 2
}
