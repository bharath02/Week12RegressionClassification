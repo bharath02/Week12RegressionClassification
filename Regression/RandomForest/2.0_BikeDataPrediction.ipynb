{
 "cells": [
  {
   "cell_type": "code",
   "execution_count": 1,
   "metadata": {},
   "outputs": [
    {
     "name": "stderr",
     "output_type": "stream",
     "text": [
      "C:\\anaconda3\\lib\\site-packages\\ipykernel_launcher.py:24: DataConversionWarning: A column-vector y was passed when a 1d array was expected. Please change the shape of y to (n_samples,), for example using ravel().\n"
     ]
    },
    {
     "name": "stdout",
     "output_type": "stream",
     "text": [
      "Prediction Values   [  7.18   5.   741.39 ...  33.82   7.   371.55]\n",
      "Manual Prediction :  [4.]\n"
     ]
    }
   ],
   "source": [
    "\"\"\"\n",
    "Statement : For a given dataset predict number of bikes getting shared based on different parameters\n",
    "DataSet   : https://drive.google.com/open?id=1ohN2o3zSZ2Xuy4CIdTWN-dTmciUXizst\n",
    "\n",
    "\"\"\"\n",
    "import pandas as pd\n",
    "import numpy as np\n",
    "from sklearn.preprocessing import LabelEncoder\n",
    "\n",
    "bikeData=pd.read_csv('bike_sharing.csv')\n",
    "le=LabelEncoder()\n",
    "bikeData['dteday']=le.fit_transform(bikeData['dteday'])\n",
    "inputVariables=['dteday','season','yr','mnth','hr','holiday','weekday','workingday','weathersit','temp','atemp','hum','windspeed','casual','registered']\n",
    "outputVariables=['cnt']\n",
    "\n",
    "from sklearn.model_selection import train_test_split\n",
    "x=bikeData[inputVariables]\n",
    "y=bikeData[outputVariables]\n",
    "\n",
    "x_train,x_test,y_train,y_test=train_test_split(x,y,test_size=0.2,random_state=0)\n",
    "\n",
    "from sklearn.ensemble import RandomForestRegressor\n",
    "reg=RandomForestRegressor(n_estimators=100, random_state=0)\n",
    "reg.fit(x_train,y_train)\n",
    "\n",
    "ypred=reg.predict(x_test)\n",
    "print('Prediction Values  ',ypred)\n",
    "\n",
    "# manualPrediction\n",
    "ypredmanual=reg.predict([[1,2,1,1,22,0,6,1,2,0.22,0.33,0.81,0.25,2,2]])\n",
    "print(\"Manual Prediction : \",ypredmanual)"
   ]
  }
 ],
 "metadata": {
  "kernelspec": {
   "display_name": "Python 3",
   "language": "python",
   "name": "python3"
  },
  "language_info": {
   "codemirror_mode": {
    "name": "ipython",
    "version": 3
   },
   "file_extension": ".py",
   "mimetype": "text/x-python",
   "name": "python",
   "nbconvert_exporter": "python",
   "pygments_lexer": "ipython3",
   "version": "3.6.8"
  }
 },
 "nbformat": 4,
 "nbformat_minor": 2
}
