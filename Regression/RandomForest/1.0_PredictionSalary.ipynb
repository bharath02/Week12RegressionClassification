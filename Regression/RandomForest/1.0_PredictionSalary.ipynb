{
 "cells": [
  {
   "cell_type": "code",
   "execution_count": 8,
   "metadata": {},
   "outputs": [
    {
     "name": "stdout",
     "output_type": "stream",
     "text": [
      "[[ 1]\n",
      " [ 2]\n",
      " [ 3]\n",
      " [ 4]\n",
      " [ 5]\n",
      " [ 6]\n",
      " [ 7]\n",
      " [ 8]\n",
      " [ 9]\n",
      " [10]]\n",
      "[  45000   50000   60000   80000  110000  150000  200000  300000  500000\n",
      " 1000000]\n",
      "Mannual data Predition of Regression :  [51700.]\n"
     ]
    }
   ],
   "source": [
    "\"\"\"\n",
    "Statement : Build a machine learning model to predict salary  based on position for a given dataset\n",
    "DataSet   : https://drive.google.com/open?id=1jKfNxQkybZKprVpCkoL16mTjmSSnCol3\n",
    "\n",
    "\"\"\"\n",
    "import pandas as pd\n",
    "import numpy as np\n",
    "from sklearn.preprocessing import LabelEncoder\n",
    "\n",
    "salaryPrediction=pd.read_csv('Position_Salaries.csv')\n",
    "le=LabelEncoder()\n",
    "salaryPrediction['Position']=le.fit_transform(salaryPrediction['Position'])\n",
    "x = salaryPrediction.iloc[:, 1:2].values  \n",
    "print(x) \n",
    "y = salaryPrediction.iloc[:, 2].values \n",
    "print(y)\n",
    "\n",
    "from sklearn.ensemble import RandomForestRegressor\n",
    "reg=RandomForestRegressor(n_estimators=100, random_state=0)\n",
    "reg.fit(x,y)\n",
    "ymannualPred=reg.predict([[2.2]])\n",
    "print(\"Mannual data Predition of Regression : \",ymannualPred)"
   ]
  },
  {
   "cell_type": "code",
   "execution_count": null,
   "metadata": {},
   "outputs": [],
   "source": [
    "import matplotlib.pyplot as plt\n",
    "\n",
    "X_grid = np.arange(min(x), max(x), 0.01)                    \n",
    "X_grid = X_grid.reshape((len(X_grid), 1)) \n",
    "  \n",
    "plt.scatter(x, y, color = 'blue')   \n",
    "  \n",
    "# plot predicted data \n",
    "plt.plot(X_grid, reg.predict(X_grid),  \n",
    "         color = 'green')  \n",
    "plt.title('Random Forest Regression') \n",
    "plt.xlabel('Position level') \n",
    "plt.ylabel('Salary') \n",
    "plt.show()"
   ]
  }
 ],
 "metadata": {
  "kernelspec": {
   "display_name": "Python 3",
   "language": "python",
   "name": "python3"
  },
  "language_info": {
   "codemirror_mode": {
    "name": "ipython",
    "version": 3
   },
   "file_extension": ".py",
   "mimetype": "text/x-python",
   "name": "python",
   "nbconvert_exporter": "python",
   "pygments_lexer": "ipython3",
   "version": "3.6.8"
  }
 },
 "nbformat": 4,
 "nbformat_minor": 2
}
