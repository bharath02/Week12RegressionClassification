{
 "cells": [
  {
   "cell_type": "code",
   "execution_count": 1,
   "metadata": {},
   "outputs": [
    {
     "name": "stdout",
     "output_type": "stream",
     "text": [
      "            Position  Level   Salary\n",
      "0   Business Analyst      1    45000\n",
      "1  Junior Consultant      2    50000\n",
      "2  Senior Consultant      3    60000\n",
      "3            Manager      4    80000\n",
      "4    Country Manager      5   110000\n",
      "5     Region Manager      6   150000\n",
      "6            Partner      7   200000\n",
      "7     Senior Partner      8   300000\n",
      "8            C-level      9   500000\n",
      "9                CEO     10  1000000\n"
     ]
    }
   ],
   "source": [
    "\"\"\"\n",
    "Statement :  Build a machine learning model to predict salary  based on position for a given dataset\n",
    "DataBase  :  https://drive.google.com/open?id=1jKfNxQkybZKprVpCkoL16mTjmSSnCol3\n",
    "\n",
    "\"\"\"\n",
    "\n",
    "import pandas as pd\n",
    "import numpy as np\n",
    "\n",
    "postionSalary=pd.read_csv('Position_Salaries.csv')\n",
    "print(postionSalary)"
   ]
  },
  {
   "cell_type": "code",
   "execution_count": 2,
   "metadata": {},
   "outputs": [
    {
     "name": "stdout",
     "output_type": "stream",
     "text": [
      "[[ 1]\n",
      " [ 2]\n",
      " [ 3]\n",
      " [ 4]\n",
      " [ 5]\n",
      " [ 6]\n",
      " [ 7]\n",
      " [ 8]\n",
      " [ 9]\n",
      " [10]] [  45000   50000   60000   80000  110000  150000  200000  300000  500000\n",
      " 1000000]\n"
     ]
    }
   ],
   "source": [
    "x=postionSalary.iloc[:,1:2].values\n",
    "y=postionSalary.iloc[:,2].values\n",
    "print(x,y)"
   ]
  },
  {
   "cell_type": "code",
   "execution_count": 3,
   "metadata": {},
   "outputs": [
    {
     "data": {
      "text/plain": [
       "LinearRegression(copy_X=True, fit_intercept=True, n_jobs=None,\n",
       "         normalize=False)"
      ]
     },
     "execution_count": 3,
     "metadata": {},
     "output_type": "execute_result"
    }
   ],
   "source": [
    "from sklearn.linear_model import LinearRegression\n",
    "reg=LinearRegression()\n",
    "reg.fit(x,y)"
   ]
  },
  {
   "cell_type": "code",
   "execution_count": 4,
   "metadata": {},
   "outputs": [
    {
     "data": {
      "text/plain": [
       "Text(0,0.5,' Salary ')"
      ]
     },
     "execution_count": 4,
     "metadata": {},
     "output_type": "execute_result"
    }
   ],
   "source": [
    "import matplotlib.pyplot as plt\n",
    "\n",
    "plt.scatter(x,y,color='Green')\n",
    "plt.plot(x,reg.predict(x))\n",
    "plt.title(\" Linear Regression \")\n",
    "plt.xlabel(\" Level \")\n",
    "plt.ylabel(\" Salary \")"
   ]
  },
  {
   "cell_type": "code",
   "execution_count": 5,
   "metadata": {},
   "outputs": [
    {
     "name": "stdout",
     "output_type": "stream",
     "text": [
      "[330378.78787879]\n",
      "[[  1.   1.   1.]\n",
      " [  1.   2.   4.]\n",
      " [  1.   3.   9.]\n",
      " [  1.   4.  16.]\n",
      " [  1.   5.  25.]\n",
      " [  1.   6.  36.]\n",
      " [  1.   7.  49.]\n",
      " [  1.   8.  64.]\n",
      " [  1.   9.  81.]\n",
      " [  1.  10. 100.]]\n"
     ]
    }
   ],
   "source": [
    "manualPredict=reg.predict([[6.5]])\n",
    "print(manualPredict)\n",
    "\n",
    "from sklearn.preprocessing import PolynomialFeatures\n",
    "\n",
    "polyReg=PolynomialFeatures(degree=2)\n",
    "xPoly=polyReg.fit_transform(x)\n",
    "print(xPoly)"
   ]
  },
  {
   "cell_type": "code",
   "execution_count": 6,
   "metadata": {},
   "outputs": [
    {
     "data": {
      "image/png": "[encoded data removed]",
      "text/plain": [
       "<matplotlib.figure.Figure at 0x89a3530>"
      ]
     },
     "metadata": {},
     "output_type": "display_data"
    }
   ],
   "source": [
    "linreg=LinearRegression()\n",
    "linreg.fit(xPoly,y)\n",
    "\n",
    "plt.scatter(x,y,color='Blue')\n",
    "plt.plot(x,linreg.predict(polyReg.fit_transform(x)))\n",
    "plt.title(\" Poly Regression Degree 2 \")\n",
    "plt.xlabel(\" Level \")\n",
    "plt.ylabel(\" Salary \")\n",
    "plt.show()"
   ]
  },
  {
   "cell_type": "code",
   "execution_count": 7,
   "metadata": {},
   "outputs": [
    {
     "name": "stdout",
     "output_type": "stream",
     "text": [
      "Prediction of Poly Regression :  [189498.10606061]\n"
     ]
    }
   ],
   "source": [
    "newSalary=linreg.predict(polyReg.fit_transform([[6.5]]))\n",
    "print(\"Prediction of Poly Regression : \", newSalary)\n",
    "\n"
   ]
  },
  {
   "cell_type": "code",
   "execution_count": 8,
   "metadata": {},
   "outputs": [
    {
     "data": {
      "image/png": "[encoded data removed]",
      "text/plain": [
       "<matplotlib.figure.Figure at 0x89ddab0>"
      ]
     },
     "metadata": {},
     "output_type": "display_data"
    },
    {
     "name": "stdout",
     "output_type": "stream",
     "text": [
      "The predicted salary of a person at 6.5 Level is  [133259.46969697]\n"
     ]
    }
   ],
   "source": [
    "polyReg3=PolynomialFeatures(degree=3)\n",
    "xPoly3=polyReg3.fit_transform(x)\n",
    "\n",
    "linreg.fit(xPoly3,y)\n",
    "plt.scatter(x,y, color=\"red\")\n",
    "plt.plot(x, linreg.predict(polyReg3.fit_transform(x)))\n",
    "plt.title(\"Poly Regression Degree 3\")\n",
    "plt.xlabel(\"Level\")\n",
    "plt.ylabel(\"Salary\")\n",
    "plt.show()\n",
    "\n",
    "\n",
    "newsalarypred3 = linreg.predict(polyReg3.fit_transform([[6.5]]))\n",
    "print('The predicted salary of a person at 6.5 Level is ',newsalarypred3)"
   ]
  },
  {
   "cell_type": "code",
   "execution_count": 9,
   "metadata": {},
   "outputs": [
    {
     "data": {
      "image/png": "[encoded data removed]",
      "text/plain": [
       "<matplotlib.figure.Figure at 0x885dd90>"
      ]
     },
     "metadata": {},
     "output_type": "display_data"
    },
    {
     "name": "stdout",
     "output_type": "stream",
     "text": [
      "The predicted salary of a person at 6.5 Level is  [158862.45265157]\n"
     ]
    }
   ],
   "source": [
    "poly_reg = PolynomialFeatures(degree=4)\n",
    "X_poly = poly_reg.fit_transform(x)\n",
    "\n",
    " # Step 6 - Passing X_poly to LinearRegression\n",
    "lin_reg_2 = LinearRegression()\n",
    "lin_reg_2.fit(X_poly,y)\n",
    "\n",
    "# Step 7 - Visualize Poly Regression Results\n",
    "plt.scatter(x,y, color=\"red\")\n",
    "plt.plot(x, lin_reg_2.predict(poly_reg.fit_transform(x)))\n",
    "plt.title(\"Poly Regression Degree 4\")\n",
    "plt.xlabel(\"Level\")\n",
    "plt.ylabel(\"Salary\")\n",
    "plt.show()\n",
    "\n",
    "# Step 8 Polynomial Regression prediction\n",
    "new_salary_pred = lin_reg_2.predict(poly_reg.fit_transform([[6.5]]))\n",
    "print('The predicted salary of a person at 6.5 Level is ',new_salary_pred)"
   ]
  }
 ],
 "metadata": {
  "kernelspec": {
   "display_name": "Python 3",
   "language": "python",
   "name": "python3"
  },
  "language_info": {
   "codemirror_mode": {
    "name": "ipython",
    "version": 3
   },
   "file_extension": ".py",
   "mimetype": "text/x-python",
   "name": "python",
   "nbconvert_exporter": "python",
   "pygments_lexer": "ipython3",
   "version": "3.6.8"
  }
 },
 "nbformat": 4,
 "nbformat_minor": 2
}
