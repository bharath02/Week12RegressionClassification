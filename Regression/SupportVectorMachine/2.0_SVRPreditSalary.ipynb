{
 "cells": [
  {
   "cell_type": "code",
   "execution_count": null,
   "metadata": {},
   "outputs": [
    {
     "name": "stdout",
     "output_type": "stream",
     "text": [
      "            Position  Level   Salary\n",
      "0   Business Analyst      1    45000\n",
      "1  Junior Consultant      2    50000\n",
      "2  Senior Consultant      3    60000\n",
      "3            Manager      4    80000\n",
      "4    Country Manager      5   110000\n",
      "5     Region Manager      6   150000\n",
      "6            Partner      7   200000\n",
      "7     Senior Partner      8   300000\n",
      "8            C-level      9   500000\n",
      "9                CEO     10  1000000\n",
      "[71354.86393343 71354.93610277 71355.00827674 71355.24102481\n",
      " 71355.45084184 71355.52301214 71355.70989065 71355.80500438\n",
      " 71356.15249623 71356.29349739]\n",
      "[0.56684261]\n"
     ]
    },
    {
     "name": "stderr",
     "output_type": "stream",
     "text": [
      "C:\\anaconda3\\lib\\site-packages\\sklearn\\utils\\validation.py:595: DataConversionWarning: Data with input dtype int64 was converted to float64 by StandardScaler.\n",
      "  warnings.warn(msg, DataConversionWarning)\n",
      "C:\\anaconda3\\lib\\site-packages\\sklearn\\utils\\validation.py:595: DataConversionWarning: Data with input dtype int64 was converted to float64 by StandardScaler.\n",
      "  warnings.warn(msg, DataConversionWarning)\n",
      "C:\\anaconda3\\lib\\site-packages\\sklearn\\utils\\validation.py:595: DataConversionWarning: Data with input dtype int64 was converted to float64 by StandardScaler.\n",
      "  warnings.warn(msg, DataConversionWarning)\n",
      "C:\\anaconda3\\lib\\site-packages\\sklearn\\utils\\validation.py:595: DataConversionWarning: Data with input dtype int64 was converted to float64 by StandardScaler.\n",
      "  warnings.warn(msg, DataConversionWarning)\n",
      "C:\\anaconda3\\lib\\site-packages\\sklearn\\utils\\validation.py:761: DataConversionWarning: A column-vector y was passed when a 1d array was expected. Please change the shape of y to (n_samples, ), for example using ravel().\n",
      "  y = column_or_1d(y, warn=True)\n",
      "C:\\anaconda3\\lib\\site-packages\\sklearn\\utils\\validation.py:595: DataConversionWarning: Data with input dtype int64 was converted to float64 by StandardScaler.\n",
      "  warnings.warn(msg, DataConversionWarning)\n",
      "C:\\anaconda3\\lib\\site-packages\\numpy\\core\\fromnumeric.py:83: RuntimeWarning: invalid value encountered in reduce\n",
      "  return ufunc.reduce(obj, axis, dtype, out, **passkwargs)\n"
     ]
    }
   ],
   "source": [
    "\"\"\"\n",
    "\n",
    "problem : Build a machine learning model to predict salary  based on position for a given dataset\n",
    "DataSet : https://drive.google.com/open?id=1jKfNxQkybZKprVpCkoL16mTjmSSnCol3\n",
    "\n",
    "\n",
    "\"\"\"\n",
    "\n",
    "import pandas as pd\n",
    "import numpy as np\n",
    "from matplotlib import cm, pyplot\n",
    "from matplotlib.mlab import griddata\n",
    "from mpl_toolkits.mplot3d import Axes3D\n",
    "\n",
    "SalaryData=pd.read_csv('Position_Salaries.csv')\n",
    "print(SalaryData)\n",
    "from sklearn.preprocessing import LabelEncoder\n",
    "le=LabelEncoder()\n",
    "SalaryData['Position']=le.fit_transform(SalaryData['Position'])\n",
    "\n",
    "#SalaryData=pd.to_numeric(Salary,downcast='float')\n",
    "S=SalaryData.iloc[:,0:2].values\n",
    "t=SalaryData.iloc[:,2].values.reshape(-1, 1)\n",
    "\n",
    "from sklearn.preprocessing import StandardScaler\n",
    "\n",
    "sc=StandardScaler()\n",
    "s2=sc.fit_transform(S)\n",
    "t2=sc.fit_transform(t)\n",
    "from sklearn.svm import SVR\n",
    "reg=SVR(kernel='rbf')\n",
    "reg.fit(s2,t2)\n",
    "\n",
    "x=S[:,0]\n",
    "y=S[:,1]\n",
    "z=t\n",
    "zp=sc.inverse_transform(reg.predict(sc.transform(S)))\n",
    "print(zp)\n",
    "\n",
    "manualPredict=reg.predict([[0,2]])\n",
    "print(manualPredict)\n",
    "\n",
    "\n",
    "\n",
    "#Graph Represent \n",
    "xi=np.linspace(min(x), max(x))\n",
    "yi = np.linspace(min(y), max(y))\n",
    "X, Y = np.meshgrid(xi, yi)\n",
    "ZP = griddata(x, y, zp, xi, yi,interp='linear')\n",
    "\n",
    "fig = pyplot.figure()\n",
    "ax = Axes3D(fig)\n",
    "surf = ax.plot_surface(X, Y, ZP, rstride=1, cstride=1, facecolors=cm.jet(ZP/3200), linewidth=0, antialiased=True)\n",
    "ax.scatter(x, y, z)\n",
    "ax.set_zlim3d(np.min(z), np.max(z))\n",
    "colorscale = cm.ScalarMappable(cmap=cm.jet)\n",
    "colorscale.set_array(z)\n",
    "fig.colorbar(colorscale)\n",
    "pyplot.show()\n",
    "\n"
   ]
  }
 ],
 "metadata": {
  "kernelspec": {
   "display_name": "Python 3",
   "language": "python",
   "name": "python3"
  },
  "language_info": {
   "codemirror_mode": {
    "name": "ipython",
    "version": 3
   },
   "file_extension": ".py",
   "mimetype": "text/x-python",
   "name": "python",
   "nbconvert_exporter": "python",
   "pygments_lexer": "ipython3",
   "version": "3.6.8"
  }
 },
 "nbformat": 4,
 "nbformat_minor": 2
}
