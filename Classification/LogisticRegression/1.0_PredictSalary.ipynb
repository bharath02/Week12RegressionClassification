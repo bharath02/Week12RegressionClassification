{
 "cells": [
  {
   "cell_type": "code",
   "execution_count": 6,
   "metadata": {},
   "outputs": [
    {
     "name": "stdout",
     "output_type": "stream",
     "text": [
      "    User ID  Gender  Age  EstimatedSalary  Purchased\n",
      "0  15624510       1   19            19000          0\n",
      "1  15810944       1   35            20000          0\n",
      "2  15668575       0   26            43000          0\n",
      "3  15603246       0   27            57000          0\n",
      "4  15804002       1   19            76000          0\n",
      "User ID            0\n",
      "Gender             0\n",
      "Age                0\n",
      "EstimatedSalary    0\n",
      "Purchased          0\n",
      "dtype: int64\n",
      "<class 'pandas.core.frame.DataFrame'>\n",
      "Int64Index: 400 entries, 0 to 399\n",
      "Data columns (total 5 columns):\n",
      "User ID            400 non-null int64\n",
      "Gender             400 non-null int32\n",
      "Age                400 non-null int64\n",
      "EstimatedSalary    400 non-null int64\n",
      "Purchased          400 non-null int64\n",
      "dtypes: int32(1), int64(4)\n",
      "memory usage: 17.2 KB\n",
      "None\n"
     ]
    }
   ],
   "source": [
    "\"\"\"\n",
    "Statement : Build a machine learning model to predict user will click the ad or not based on his experience and estimated salary for a given dataset.\n",
    "DataSet   : https://drive.google.com/open?id=1I8KsCufEa47XvzrkxhntEWSy1Su0E0NY\n",
    "\n",
    "\"\"\"\n",
    "import pandas as pd\n",
    "import numpy as np\n",
    "from sklearn.preprocessing import LabelEncoder\n",
    "\n",
    "socialNetwork=pd.read_csv('Social_Network_Ads.csv')\n",
    "le=LabelEncoder()\n",
    "socialNetwork['Gender']=le.fit_transform(socialNetwork['Gender'])\n",
    "print(socialNetwork.head())\n",
    "print(socialNetwork.isnull().sum())\n",
    "socialNetwork=socialNetwork.dropna()\n",
    "print(socialNetwork.info())"
   ]
  },
  {
   "cell_type": "code",
   "execution_count": 11,
   "metadata": {},
   "outputs": [
    {
     "name": "stderr",
     "output_type": "stream",
     "text": [
      "C:\\anaconda3\\lib\\site-packages\\sklearn\\preprocessing\\data.py:645: DataConversionWarning: Data with input dtype int32, int64 were all converted to float64 by StandardScaler.\n",
      "  return self.partial_fit(X, y)\n",
      "C:\\anaconda3\\lib\\site-packages\\sklearn\\base.py:464: DataConversionWarning: Data with input dtype int32, int64 were all converted to float64 by StandardScaler.\n",
      "  return self.fit(X, **fit_params).transform(X)\n",
      "C:\\anaconda3\\lib\\site-packages\\sklearn\\preprocessing\\data.py:645: DataConversionWarning: Data with input dtype int32, int64 were all converted to float64 by StandardScaler.\n",
      "  return self.partial_fit(X, y)\n",
      "C:\\anaconda3\\lib\\site-packages\\sklearn\\base.py:464: DataConversionWarning: Data with input dtype int32, int64 were all converted to float64 by StandardScaler.\n",
      "  return self.fit(X, **fit_params).transform(X)\n",
      "C:\\anaconda3\\lib\\site-packages\\sklearn\\linear_model\\logistic.py:433: FutureWarning: Default solver will be changed to 'lbfgs' in 0.22. Specify a solver to silence this warning.\n",
      "  FutureWarning)\n",
      "C:\\anaconda3\\lib\\site-packages\\sklearn\\utils\\validation.py:761: DataConversionWarning: A column-vector y was passed when a 1d array was expected. Please change the shape of y to (n_samples, ), for example using ravel().\n",
      "  y = column_or_1d(y, warn=True)\n"
     ]
    },
    {
     "data": {
      "text/plain": [
       "LogisticRegression(C=1.0, class_weight=None, dual=False, fit_intercept=True,\n",
       "          intercept_scaling=1, max_iter=100, multi_class='warn',\n",
       "          n_jobs=None, penalty='l2', random_state=None, solver='warn',\n",
       "          tol=0.0001, verbose=0, warm_start=False)"
      ]
     },
     "execution_count": 11,
     "metadata": {},
     "output_type": "execute_result"
    }
   ],
   "source": [
    "inpval=['Gender','Age','EstimatedSalary']\n",
    "opval=['Purchased']\n",
    "x=socialNetwork[inpval]\n",
    "y=socialNetwork[opval]\n",
    "from sklearn.model_selection import train_test_split\n",
    "x_train,x_test,y_train,y_test=train_test_split(x,y,test_size=0.2,random_state=0)\n",
    "\n",
    "from sklearn.preprocessing import StandardScaler\n",
    "sc=StandardScaler()\n",
    "x_train=sc.fit_transform(x_train)\n",
    "x=sc.fit_transform(x)\n",
    "\n",
    "from sklearn.linear_model import LogisticRegression\n",
    "\n",
    "cls=LogisticRegression()\n",
    "cls.fit(x_train,y_train)\n"
   ]
  },
  {
   "cell_type": "code",
   "execution_count": 12,
   "metadata": {},
   "outputs": [
    {
     "name": "stdout",
     "output_type": "stream",
     "text": [
      "[1 1 1 1 1 1 1 1 1 1 1 1 1 1 1 1 1 1 1 1 1 1 1 1 1 1 1 1 1 1 1 1 1 1 1 1 1\n",
      " 1 1 1 1 1 1 1 1 1 1 1 1 1 1 1 1 1 1 1 1 1 1 1 1 1 1 1 1 1 1 1 1 1 1 1 1 1\n",
      " 1 1 1 1 1 1]\n",
      "Accuracy Score : \n",
      " 0.275\n",
      "Classification Report:               precision    recall  f1-score   support\n",
      "\n",
      "           0       0.00      0.00      0.00        58\n",
      "           1       0.28      1.00      0.43        22\n",
      "\n",
      "   micro avg       0.28      0.28      0.28        80\n",
      "   macro avg       0.14      0.50      0.22        80\n",
      "weighted avg       0.08      0.28      0.12        80\n",
      "\n",
      "Confusion Score:\n",
      " [[ 0 58]\n",
      " [ 0 22]]\n"
     ]
    },
    {
     "name": "stderr",
     "output_type": "stream",
     "text": [
      "C:\\anaconda3\\lib\\site-packages\\sklearn\\metrics\\classification.py:1143: UndefinedMetricWarning: Precision and F-score are ill-defined and being set to 0.0 in labels with no predicted samples.\n",
      "  'precision', 'predicted', average, warn_for)\n"
     ]
    }
   ],
   "source": [
    "yPred=cls.predict(x_test)\n",
    "print(yPred)\n",
    "from sklearn import metrics\n",
    "print(\"Accuracy Score : \\n\", metrics.accuracy_score(y_test,yPred))\n",
    "print(\"Classification Report:\",metrics.classification_report(y_test, yPred))\n",
    "print(\"Confusion Score:\\n\", metrics.confusion_matrix(y_test, yPred))"
   ]
  },
  {
   "cell_type": "code",
   "execution_count": 14,
   "metadata": {},
   "outputs": [
    {
     "name": "stdout",
     "output_type": "stream",
     "text": [
      "Accuracy Score:\n",
      "0.8525\n",
      "Classification Report:\n",
      "              precision    recall  f1-score   support\n",
      "\n",
      "           0       0.86      0.91      0.89       257\n",
      "           1       0.83      0.74      0.78       143\n",
      "\n",
      "   micro avg       0.85      0.85      0.85       400\n",
      "   macro avg       0.85      0.83      0.84       400\n",
      "weighted avg       0.85      0.85      0.85       400\n",
      "\n",
      "Confusion matrix: \n",
      "[[235  22]\n",
      " [ 37 106]]\n"
     ]
    }
   ],
   "source": [
    "train_prediction = cls.predict(x)\n",
    "print(\"Accuracy Score:\")\n",
    "print(metrics.accuracy_score(y, train_prediction))\n",
    "print(\"Classification Report:\")\n",
    "print(metrics.classification_report(y, train_prediction))\n",
    "print(\"Confusion matrix: \")\n",
    "print(metrics.confusion_matrix(y, train_prediction))"
   ]
  }
 ],
 "metadata": {
  "kernelspec": {
   "display_name": "Python 3",
   "language": "python",
   "name": "python3"
  },
  "language_info": {
   "codemirror_mode": {
    "name": "ipython",
    "version": 3
   },
   "file_extension": ".py",
   "mimetype": "text/x-python",
   "name": "python",
   "nbconvert_exporter": "python",
   "pygments_lexer": "ipython3",
   "version": "3.6.8"
  }
 },
 "nbformat": 4,
 "nbformat_minor": 2
}
